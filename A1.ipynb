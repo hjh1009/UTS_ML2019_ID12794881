{
  "nbformat": 4,
  "nbformat_minor": 0,
  "metadata": {
    "colab": {
      "name": "A1.ipynb",
      "version": "0.3.2",
      "provenance": [],
      "include_colab_link": true
    },
    "kernelspec": {
      "name": "python3",
      "display_name": "Python 3"
    }
  },
  "cells": [
    {
      "cell_type": "markdown",
      "metadata": {
        "id": "view-in-github",
        "colab_type": "text"
      },
      "source": [
        "<a href=\"https://colab.research.google.com/github/hjh1009/UTS_ML2019_ID12794881/blob/master/A1.ipynb\" target=\"_parent\"><img src=\"https://colab.research.google.com/assets/colab-badge.svg\" alt=\"Open In Colab\"/></a>"
      ]
    },
    {
      "cell_type": "markdown",
      "metadata": {
        "id": "ej3jFO1U-O7i",
        "colab_type": "text"
      },
      "source": [
        "Introduction:\n",
        "\n",
        "This report is going to shows what I learnt from the article ‘The Computational Complexity of Probabilistic Inference Using Bayesian Belief Networks’.\n",
        "The article was published in 1990, and the author argues in the article that probabilistic reasoning using belief networks is NP-hard. It is proposed that research should be far from finding general, effective probabilistic inference algorithms, as well as designing effective special cases, averaging and approximation algorithms.\n"
      ]
    },
    {
      "cell_type": "markdown",
      "metadata": {
        "id": "OhcZJ4KRA11x",
        "colab_type": "text"
      },
      "source": [
        "Content:\n",
        "\n",
        "Firstly, the author describes what is Bayesian belief networks, it provides a natural and efficient way to represent probabilistic dependencies among a set of variables, how it represents and common types of probabilistic inference. Then, he said that using probabilistic inference of belief networks is NP-hard, he uses different ways to shows the result. Finally, he talks about how important this result for the future research probabilistic inference algorithms of belief networks. From this result, author suggests that research should avoid the search for a general, efficient probabilistic inference algorithm, and toward the design of three alternative strategies: efficient special-case, average-case, and approximation algorithms. Author also points out one of the benefits of Bayesian belief network is it can clearly represent the probabilistic relationships. in the article, author using PIBNETD to transform a decision-problem version from a NP-complete problem (3SAT) version, and then prove that PIBNET is NP-hard. Before transform 3SAT to PIBNETD, the author using some sample to shows up what is 3SAT problem. The author gives us two examples of s-t network reliability problem. Rosenthal is already proved that it is NP-hard for undirected networks. On the other hand, Provan and ball were proving this problem is NP-hard for directed, acyclic graphs. In the article, the author is going to reduce 3SAT to prove PIBNET is NP-hard and we can also get the additional complexity result from belief-network inference. Because this decision makes a very simple proof for PIBNET is NP-hard even that belief networks are significantly limited. The article shows the probabilistic inference by using general belief networks is NP-hard. Especially, using multiply connected belief networks with uninstantiated variables is NP-hard. The author also mentions that, understand the problem is NP-hard is necessary and important because it means that all the general, exact, efficient solution is doesn’t work. According to this reason, we should give a very low priority for this algorithm.\n"
      ]
    },
    {
      "cell_type": "markdown",
      "metadata": {
        "id": "x2KsLvL1A_qI",
        "colab_type": "text"
      },
      "source": [
        "Innovation:\n",
        "\n",
        "The author published this article in 1990, which was innovative at the time. Bayesian belief networks provides a natural and efficient way to represent probabilistic dependencies among a set of variables. As the authors say, one of the strengths of the belief network is that it can represent the probability relationship succinctly. So many researchers are studying the knowledge representation of applying belief networks to artificial intelligence. The author demonstrates the use of probabilistic inference of belief networks is NP-hard. According to this result, author suggests that research should avoid the search for a general, efficient probabilistic inference algorithm, and toward the design of three alternative strategies like efficient special-case, average-case, and approximation algorithms. This provides a new direction for future research on Bayesian belief networks. The approximation algorithm in the alternative strategy can produce an inexact bounded solution, but it can guarantee an accurate range of disaster resolution errors. Special case algorithms can perform effective probabilistic reasoning on a particular type of belief network, with the advantage of being computationally easy to handle. For example, probabilistic reasoning with a single-link network has a linear time algorithm and many multi-connection networks containing small-node clusters to efficiently perform probabilistic reasoning. At the same time, the authors explain that these algorithms exploit the decomposability of some networks to node clusters, which is a powerful technique for solving multiple network problems. Researchers can further exploit it when developing new special case belief network inference algorithms. A belief network containing a probability function or value of a restricted category can also be applied to effective reasoning. Some of the similar techniques is already applied to solve certain types of fault tree problems and network reliability issues. So from this, we can know that the alternative strategy is not innovative.\n"
      ]
    },
    {
      "cell_type": "markdown",
      "metadata": {
        "id": "EAgJGQ2BBFqQ",
        "colab_type": "text"
      },
      "source": [
        "Technical Quality:\n",
        "\n",
        "Although the article is somewhat flawed, this article has a high quality of technical, author use a lot of verifiable formula and definition to prove that PIBNET is NP-hard and mention it at abstract and introduction, it makes the reader can clearly notice that result. The extra complexity structure framework developed by the demonstration results is also described in detail. The author points out that research shouldn’t use a general, efficient probabilistic inference algorithm, and approximation algorithms, because he thinks any general, exact, efficient solution is doesn’t work. So, he mentions that three alternative strategies include average case, special-case, and approximation algorithms. However, he doesn’t detailed comparison these three alternative strategies and using general, efficient probabilistic inference algorithm, and approximation algorithms. That’s should be improved. The author uses another two examples, Rosenthal is already proved that this problem is NP-hard for undirected networks and Provan and ball were proving this problem is NP-hard for directed, acyclic graphs. According to these two examples, makes the prove more reliable. Unfortunately, a lot of formulas and definitions are not friendly to beginners, which is also something that needs to improve becomes more reader friendly."
      ]
    },
    {
      "cell_type": "markdown",
      "metadata": {
        "id": "3rBShQdgBKkw",
        "colab_type": "text"
      },
      "source": [
        "Application and X-Factor:\n",
        "\n",
        "In my opinion, the technical quality of this article is very high, and the author clearly gives the results of the argument, which is convenient for the reader. The author gives a detailed argumentation process when the argument is NP-hard, gives different examples, and the formulas and theorems mentioned in the argument are credible. The author also stated that there are other ways to prove that PIBNET is NP-hard. The article also mentions Rosenthal, Provan and ball's argument that s-t network reliability problem is NP-hard. At the same time, the article also details the additional complexity results framework developed by the results of the argument. The author proposes that any attempt at a general, exact, efficient solution is doesn’t work, and then proposes three alternative strategies, including the averaging algorithm, the special case algorithm and the approximation algorithm. Although the author mentions the advantages and examples of the above three alternative strategies, he does not compare these three methods with the methods he uses. Therefore, the article needs to be improved in terms of algorithm comparison."
      ]
    },
    {
      "cell_type": "markdown",
      "metadata": {
        "id": "3rPPjXVOBOUi",
        "colab_type": "text"
      },
      "source": [
        "Presentation:\n",
        "\n",
        "Overall, the structure of the article is very clear. Firstly, the probabilistic inference algorithm can effectively perform the probabilistic reasoning problem on all types of belief networks. Then it introduces what kind of belief network and the use of belief network to perform the kind of probabilistic reasoning, and proposes that the probabilistic reasoning of the belief network is NP-hard. After deducing the argument, the importance of the argumentation result to the future belief network probabilistic inference algorithm is described. Finally, the authors suggest that research should be far from finding general, effective probabilistic inference algorithms, as well as design alternative strategies such as effective special cases, averaging and approximation algorithms. Unfortunately, the formulas and definitions used in the article are very unfriendly to beginner."
      ]
    },
    {
      "cell_type": "markdown",
      "metadata": {
        "id": "xHu6Mf5XBdb2",
        "colab_type": "text"
      },
      "source": [
        "Plain Text link:"
      ]
    }
  ]
}